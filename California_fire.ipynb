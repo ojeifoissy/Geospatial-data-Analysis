{
  "nbformat": 4,
  "nbformat_minor": 0,
  "metadata": {
    "colab": {
      "name": "California_fire.ipynb",
      "provenance": [],
      "authorship_tag": "ABX9TyOvlj9F7bIIfSpQItcyITh6",
      "include_colab_link": true
    },
    "kernelspec": {
      "name": "python3",
      "display_name": "Python 3"
    },
    "language_info": {
      "name": "python"
    }
  },
  "cells": [
    {
      "cell_type": "markdown",
      "metadata": {
        "id": "view-in-github",
        "colab_type": "text"
      },
      "source": [
        "<a href=\"https://colab.research.google.com/github/ojeifoissy/Geospatial-data-Analysis/blob/main/California_fire.ipynb\" target=\"_parent\"><img src=\"https://colab.research.google.com/assets/colab-badge.svg\" alt=\"Open In Colab\"/></a>"
      ]
    },
    {
      "cell_type": "code",
      "execution_count": null,
      "metadata": {
        "id": "iQk41l4now7a"
      },
      "outputs": [],
      "source": [
        "# the regulars\n",
        "import pandas as pd\n",
        "import geopandas as gpd\n",
        "\n",
        "# earth engine\n",
        "import ee\n",
        "\n",
        "# allow images to display in the notebook\n",
        "from IPython.display import Image\n",
        "import folium"
      ]
    },
    {
      "cell_type": "code",
      "source": [
        "#Trigger the authentication flow\n",
        "ee.Authenticate()\n"
      ],
      "metadata": {
        "colab": {
          "base_uri": "https://localhost:8080/"
        },
        "id": "6FK0bsh3pRxa",
        "outputId": "68d8f5b0-1755-44ab-a8d6-2e713d971f5e"
      },
      "execution_count": null,
      "outputs": [
        {
          "output_type": "stream",
          "name": "stdout",
          "text": [
            "To authorize access needed by Earth Engine, open the following URL in a web browser and follow the instructions. If the web browser does not start automatically, please manually browse the URL below.\n",
            "\n",
            "    https://code.earthengine.google.com/client-auth?scopes=https%3A//www.googleapis.com/auth/earthengine%20https%3A//www.googleapis.com/auth/devstorage.full_control&request_id=IAgaMDSwLYojFZBaTdkQTA7lkm6zXbCOP3Pr5Dhhkeg&tc=RhB185eOQQeDfvIAvEuZrBht5dT_5IfKQ1Im1oniA4s&cc=wjhcXgfCTRZUZTLCmLG2QEwDtbQgbNX2L_z-zqouakI\n",
            "\n",
            "The authorization workflow will generate a code, which you should paste in the box below. \n",
            "Enter verification code: 4/1AX4XfWjx-yJXJrKL9ieDXqfjU_eQGNK2wnE3Z9mYmPaf8YHPQeq7qjIHQpQ\n",
            "\n",
            "Successfully saved authorization token.\n"
          ]
        }
      ]
    },
    {
      "cell_type": "code",
      "source": [
        "#Intitialize the library\n",
        "ee.Initialize()"
      ],
      "metadata": {
        "id": "f8lCQrW6pcIt"
      },
      "execution_count": null,
      "outputs": []
    },
    {
      "cell_type": "code",
      "source": [
        "# coordinates of the Camp Fire\n",
        "lat =  39.444012\n",
        "long = -121.833619\n",
        "\n",
        "poi=ee.Geometry.Point(long,lat)\n",
        "\n",
        "# start date of range to filter for\n",
        "start_date = '2018-10-01'\n",
        "\n",
        "# end date\n",
        "end_date = '2019-01-31'"
      ],
      "metadata": {
        "id": "HPPJhgUCpjVb"
      },
      "execution_count": null,
      "outputs": []
    },
    {
      "cell_type": "code",
      "source": [
        "landsat= ee.ImageCollection('LANDSAT/LC08/C02/T1_L2')\\\n",
        "         .filterBounds(poi)\\\n",
        "         .filterDate(start_date, end_date)"
      ],
      "metadata": {
        "id": "4RE-4g2au1d4"
      },
      "execution_count": null,
      "outputs": []
    },
    {
      "cell_type": "code",
      "source": [
        "# how many images did we get?\n",
        "print('Total number:', landsat.size().getInfo())"
      ],
      "metadata": {
        "colab": {
          "base_uri": "https://localhost:8080/"
        },
        "id": "K_Evmjm2wX2F",
        "outputId": "abbc5b67-86f0-4b60-929a-8f787e359257"
      },
      "execution_count": null,
      "outputs": [
        {
          "output_type": "stream",
          "name": "stdout",
          "text": [
            "Total number: 8\n"
          ]
        }
      ]
    },
    {
      "cell_type": "code",
      "source": [
        "# information about the first image in our collection\n",
        "landsat.first().getInfo()"
      ],
      "metadata": {
        "colab": {
          "base_uri": "https://localhost:8080/"
        },
        "id": "LOyFFIH7wq5Q",
        "outputId": "467dfc4d-b0ba-4fa0-97c6-f3ba211560a3"
      },
      "execution_count": null,
      "outputs": [
        {
          "output_type": "execute_result",
          "data": {
            "text/plain": [
              "{'bands': [{'crs': 'EPSG:32610',\n",
              "   'crs_transform': [30, 0, 500385, 0, -30, 4423215],\n",
              "   'data_type': {'max': 65535,\n",
              "    'min': 0,\n",
              "    'precision': 'int',\n",
              "    'type': 'PixelType'},\n",
              "   'dimensions': [7661, 7791],\n",
              "   'id': 'SR_B1'},\n",
              "  {'crs': 'EPSG:32610',\n",
              "   'crs_transform': [30, 0, 500385, 0, -30, 4423215],\n",
              "   'data_type': {'max': 65535,\n",
              "    'min': 0,\n",
              "    'precision': 'int',\n",
              "    'type': 'PixelType'},\n",
              "   'dimensions': [7661, 7791],\n",
              "   'id': 'SR_B2'},\n",
              "  {'crs': 'EPSG:32610',\n",
              "   'crs_transform': [30, 0, 500385, 0, -30, 4423215],\n",
              "   'data_type': {'max': 65535,\n",
              "    'min': 0,\n",
              "    'precision': 'int',\n",
              "    'type': 'PixelType'},\n",
              "   'dimensions': [7661, 7791],\n",
              "   'id': 'SR_B3'},\n",
              "  {'crs': 'EPSG:32610',\n",
              "   'crs_transform': [30, 0, 500385, 0, -30, 4423215],\n",
              "   'data_type': {'max': 65535,\n",
              "    'min': 0,\n",
              "    'precision': 'int',\n",
              "    'type': 'PixelType'},\n",
              "   'dimensions': [7661, 7791],\n",
              "   'id': 'SR_B4'},\n",
              "  {'crs': 'EPSG:32610',\n",
              "   'crs_transform': [30, 0, 500385, 0, -30, 4423215],\n",
              "   'data_type': {'max': 65535,\n",
              "    'min': 0,\n",
              "    'precision': 'int',\n",
              "    'type': 'PixelType'},\n",
              "   'dimensions': [7661, 7791],\n",
              "   'id': 'SR_B5'},\n",
              "  {'crs': 'EPSG:32610',\n",
              "   'crs_transform': [30, 0, 500385, 0, -30, 4423215],\n",
              "   'data_type': {'max': 65535,\n",
              "    'min': 0,\n",
              "    'precision': 'int',\n",
              "    'type': 'PixelType'},\n",
              "   'dimensions': [7661, 7791],\n",
              "   'id': 'SR_B6'},\n",
              "  {'crs': 'EPSG:32610',\n",
              "   'crs_transform': [30, 0, 500385, 0, -30, 4423215],\n",
              "   'data_type': {'max': 65535,\n",
              "    'min': 0,\n",
              "    'precision': 'int',\n",
              "    'type': 'PixelType'},\n",
              "   'dimensions': [7661, 7791],\n",
              "   'id': 'SR_B7'},\n",
              "  {'crs': 'EPSG:32610',\n",
              "   'crs_transform': [30, 0, 500385, 0, -30, 4423215],\n",
              "   'data_type': {'max': 255,\n",
              "    'min': 0,\n",
              "    'precision': 'int',\n",
              "    'type': 'PixelType'},\n",
              "   'dimensions': [7661, 7791],\n",
              "   'id': 'SR_QA_AEROSOL'},\n",
              "  {'crs': 'EPSG:32610',\n",
              "   'crs_transform': [30, 0, 500385, 0, -30, 4423215],\n",
              "   'data_type': {'max': 65535,\n",
              "    'min': 0,\n",
              "    'precision': 'int',\n",
              "    'type': 'PixelType'},\n",
              "   'dimensions': [7661, 7791],\n",
              "   'id': 'ST_B10'},\n",
              "  {'crs': 'EPSG:32610',\n",
              "   'crs_transform': [30, 0, 500385, 0, -30, 4423215],\n",
              "   'data_type': {'max': 32767,\n",
              "    'min': -32768,\n",
              "    'precision': 'int',\n",
              "    'type': 'PixelType'},\n",
              "   'dimensions': [7661, 7791],\n",
              "   'id': 'ST_ATRAN'},\n",
              "  {'crs': 'EPSG:32610',\n",
              "   'crs_transform': [30, 0, 500385, 0, -30, 4423215],\n",
              "   'data_type': {'max': 32767,\n",
              "    'min': -32768,\n",
              "    'precision': 'int',\n",
              "    'type': 'PixelType'},\n",
              "   'dimensions': [7661, 7791],\n",
              "   'id': 'ST_CDIST'},\n",
              "  {'crs': 'EPSG:32610',\n",
              "   'crs_transform': [30, 0, 500385, 0, -30, 4423215],\n",
              "   'data_type': {'max': 32767,\n",
              "    'min': -32768,\n",
              "    'precision': 'int',\n",
              "    'type': 'PixelType'},\n",
              "   'dimensions': [7661, 7791],\n",
              "   'id': 'ST_DRAD'},\n",
              "  {'crs': 'EPSG:32610',\n",
              "   'crs_transform': [30, 0, 500385, 0, -30, 4423215],\n",
              "   'data_type': {'max': 32767,\n",
              "    'min': -32768,\n",
              "    'precision': 'int',\n",
              "    'type': 'PixelType'},\n",
              "   'dimensions': [7661, 7791],\n",
              "   'id': 'ST_EMIS'},\n",
              "  {'crs': 'EPSG:32610',\n",
              "   'crs_transform': [30, 0, 500385, 0, -30, 4423215],\n",
              "   'data_type': {'max': 32767,\n",
              "    'min': -32768,\n",
              "    'precision': 'int',\n",
              "    'type': 'PixelType'},\n",
              "   'dimensions': [7661, 7791],\n",
              "   'id': 'ST_EMSD'},\n",
              "  {'crs': 'EPSG:32610',\n",
              "   'crs_transform': [30, 0, 500385, 0, -30, 4423215],\n",
              "   'data_type': {'max': 32767,\n",
              "    'min': -32768,\n",
              "    'precision': 'int',\n",
              "    'type': 'PixelType'},\n",
              "   'dimensions': [7661, 7791],\n",
              "   'id': 'ST_QA'},\n",
              "  {'crs': 'EPSG:32610',\n",
              "   'crs_transform': [30, 0, 500385, 0, -30, 4423215],\n",
              "   'data_type': {'max': 32767,\n",
              "    'min': -32768,\n",
              "    'precision': 'int',\n",
              "    'type': 'PixelType'},\n",
              "   'dimensions': [7661, 7791],\n",
              "   'id': 'ST_TRAD'},\n",
              "  {'crs': 'EPSG:32610',\n",
              "   'crs_transform': [30, 0, 500385, 0, -30, 4423215],\n",
              "   'data_type': {'max': 32767,\n",
              "    'min': -32768,\n",
              "    'precision': 'int',\n",
              "    'type': 'PixelType'},\n",
              "   'dimensions': [7661, 7791],\n",
              "   'id': 'ST_URAD'},\n",
              "  {'crs': 'EPSG:32610',\n",
              "   'crs_transform': [30, 0, 500385, 0, -30, 4423215],\n",
              "   'data_type': {'max': 65535,\n",
              "    'min': 0,\n",
              "    'precision': 'int',\n",
              "    'type': 'PixelType'},\n",
              "   'dimensions': [7661, 7791],\n",
              "   'id': 'QA_PIXEL'},\n",
              "  {'crs': 'EPSG:32610',\n",
              "   'crs_transform': [30, 0, 500385, 0, -30, 4423215],\n",
              "   'data_type': {'max': 65535,\n",
              "    'min': 0,\n",
              "    'precision': 'int',\n",
              "    'type': 'PixelType'},\n",
              "   'dimensions': [7661, 7791],\n",
              "   'id': 'QA_RADSAT'}],\n",
              " 'id': 'LANDSAT/LC08/C02/T1_L2/LC08_044033_20181007',\n",
              " 'properties': {'ALGORITHM_SOURCE_SURFACE_REFLECTANCE': 'LaSRC_1.5.0',\n",
              "  'ALGORITHM_SOURCE_SURFACE_TEMPERATURE': 'st_1.3.0',\n",
              "  'CLOUD_COVER': 0.05,\n",
              "  'CLOUD_COVER_LAND': 0.05,\n",
              "  'COLLECTION_CATEGORY': 'T1',\n",
              "  'COLLECTION_NUMBER': 2,\n",
              "  'DATA_SOURCE_AIR_TEMPERATURE': 'MODIS',\n",
              "  'DATA_SOURCE_ELEVATION': 'GLS2000',\n",
              "  'DATA_SOURCE_OZONE': 'MODIS',\n",
              "  'DATA_SOURCE_PRESSURE': 'Calculated',\n",
              "  'DATA_SOURCE_REANALYSIS': 'GEOS-5 FP-IT',\n",
              "  'DATA_SOURCE_TIRS_STRAY_LIGHT_CORRECTION': 'TIRS',\n",
              "  'DATA_SOURCE_WATER_VAPOR': 'MODIS',\n",
              "  'DATE_ACQUIRED': '2018-10-07',\n",
              "  'DATE_PRODUCT_GENERATED': 1598825983000,\n",
              "  'DATUM': 'WGS84',\n",
              "  'EARTH_SUN_DISTANCE': 0.9993983,\n",
              "  'ELLIPSOID': 'WGS84',\n",
              "  'GEOMETRIC_RMSE_MODEL': 5.915,\n",
              "  'GEOMETRIC_RMSE_MODEL_X': 3.246,\n",
              "  'GEOMETRIC_RMSE_MODEL_Y': 4.945,\n",
              "  'GEOMETRIC_RMSE_VERIFY': 3.028,\n",
              "  'GRID_CELL_SIZE_REFLECTIVE': 30,\n",
              "  'GRID_CELL_SIZE_THERMAL': 30,\n",
              "  'GROUND_CONTROL_POINTS_MODEL': 1318,\n",
              "  'GROUND_CONTROL_POINTS_VERIFY': 416,\n",
              "  'GROUND_CONTROL_POINTS_VERSION': 5,\n",
              "  'IMAGE_QUALITY_OLI': 9,\n",
              "  'IMAGE_QUALITY_TIRS': 9,\n",
              "  'L1_DATE_PRODUCT_GENERATED': '2020-08-30T22:04:06Z',\n",
              "  'L1_LANDSAT_PRODUCT_ID': 'LC08_L1TP_044033_20181007_20200830_02_T1',\n",
              "  'L1_PROCESSING_LEVEL': 'L1TP',\n",
              "  'L1_PROCESSING_SOFTWARE_VERSION': 'LPGS_15.3.1c',\n",
              "  'L1_REQUEST_ID': 'L2',\n",
              "  'LANDSAT_PRODUCT_ID': 'LC08_L2SP_044033_20181007_20200830_02_T1',\n",
              "  'LANDSAT_SCENE_ID': 'LC80440332018280LGN00',\n",
              "  'MAP_PROJECTION': 'UTM',\n",
              "  'NADIR_OFFNADIR': 'NADIR',\n",
              "  'ORIENTATION': 'NORTH_UP',\n",
              "  'PROCESSING_LEVEL': 'L2SP',\n",
              "  'PROCESSING_SOFTWARE_VERSION': 'LPGS_15.3.1c',\n",
              "  'REFLECTANCE_ADD_BAND_1': -0.2,\n",
              "  'REFLECTANCE_ADD_BAND_2': -0.2,\n",
              "  'REFLECTANCE_ADD_BAND_3': -0.2,\n",
              "  'REFLECTANCE_ADD_BAND_4': -0.2,\n",
              "  'REFLECTANCE_ADD_BAND_5': -0.2,\n",
              "  'REFLECTANCE_ADD_BAND_6': -0.2,\n",
              "  'REFLECTANCE_ADD_BAND_7': -0.2,\n",
              "  'REFLECTANCE_MULT_BAND_1': 2.75e-05,\n",
              "  'REFLECTANCE_MULT_BAND_2': 2.75e-05,\n",
              "  'REFLECTANCE_MULT_BAND_3': 2.75e-05,\n",
              "  'REFLECTANCE_MULT_BAND_4': 2.75e-05,\n",
              "  'REFLECTANCE_MULT_BAND_5': 2.75e-05,\n",
              "  'REFLECTANCE_MULT_BAND_6': 2.75e-05,\n",
              "  'REFLECTANCE_MULT_BAND_7': 2.75e-05,\n",
              "  'REFLECTIVE_LINES': 7791,\n",
              "  'REFLECTIVE_SAMPLES': 7661,\n",
              "  'REQUEST_ID': 'L2',\n",
              "  'ROLL_ANGLE': -0.001,\n",
              "  'SATURATION_BAND_1': 'Y',\n",
              "  'SATURATION_BAND_2': 'Y',\n",
              "  'SATURATION_BAND_3': 'Y',\n",
              "  'SATURATION_BAND_4': 'Y',\n",
              "  'SATURATION_BAND_5': 'Y',\n",
              "  'SATURATION_BAND_6': 'Y',\n",
              "  'SATURATION_BAND_7': 'Y',\n",
              "  'SATURATION_BAND_8': 'N',\n",
              "  'SATURATION_BAND_9': 'N',\n",
              "  'SCENE_CENTER_TIME': '18:45:28.2127380Z',\n",
              "  'SENSOR_ID': 'OLI_TIRS',\n",
              "  'SPACECRAFT_ID': 'LANDSAT_8',\n",
              "  'STATION_ID': 'LGN',\n",
              "  'SUN_AZIMUTH': 156.37136574,\n",
              "  'SUN_ELEVATION': 42.62885674,\n",
              "  'TARGET_WRS_PATH': 44,\n",
              "  'TARGET_WRS_ROW': 33,\n",
              "  'TEMPERATURE_ADD_BAND_ST_B10': 149,\n",
              "  'TEMPERATURE_MAXIMUM_BAND_ST_B10': 372.999941,\n",
              "  'TEMPERATURE_MINIMUM_BAND_ST_B10': 149.003418,\n",
              "  'TEMPERATURE_MULT_BAND_ST_B10': 0.00341802,\n",
              "  'THERMAL_LINES': 7791,\n",
              "  'THERMAL_SAMPLES': 7661,\n",
              "  'TIRS_SSM_MODEL': 'FINAL',\n",
              "  'TIRS_SSM_POSITION_STATUS': 'ESTIMATED',\n",
              "  'TRUNCATION_OLI': 'UPPER',\n",
              "  'UTM_ZONE': 10,\n",
              "  'WRS_PATH': 44,\n",
              "  'WRS_ROW': 33,\n",
              "  'WRS_TYPE': 2,\n",
              "  'system:asset_size': 965138511,\n",
              "  'system:footprint': {'coordinates': [[-120.96945987441705,\n",
              "     37.85396978622024],\n",
              "    [-120.91758272903665, 37.84360095586152],\n",
              "    [-120.91091374989027, 37.84230108097053],\n",
              "    [-120.91032102754652, 37.84319081260253],\n",
              "    [-120.90026375188283, 37.87485737375912],\n",
              "    [-120.88601930375758, 37.91975025888466],\n",
              "    [-120.87475935368046, 37.95523294042605],\n",
              "    [-120.76830993328551, 38.28982473972092],\n",
              "    [-120.60616669159636, 38.7956184110626],\n",
              "    [-120.46920219411804, 39.21870028030481],\n",
              "    [-120.35829507594683, 39.55929948514903],\n",
              "    [-120.358940626908, 39.55982942717467],\n",
              "    [-120.3773619745756, 39.563471697339374],\n",
              "    [-121.13362575572384, 39.70944332250483],\n",
              "    [-122.47094597878574, 39.95415252966201],\n",
              "    [-122.47146231484521, 39.953369391342086],\n",
              "    [-122.47255137997769, 39.95009912185038],\n",
              "    [-122.97579676306593, 38.235899800160965],\n",
              "    [-122.97515026884432, 38.23538966186662],\n",
              "    [-122.83153924692401, 38.209342252115945],\n",
              "    [-120.96945987441705, 37.85396978622024]],\n",
              "   'type': 'LinearRing'},\n",
              "  'system:index': 'LC08_044033_20181007',\n",
              "  'system:time_end': 1538937928212,\n",
              "  'system:time_start': 1538937928212},\n",
              " 'type': 'Image',\n",
              " 'version': 1629895720593702}"
            ]
          },
          "metadata": {},
          "execution_count": 12
        }
      ]
    },
    {
      "cell_type": "code",
      "source": [
        "# what about cloud cover of our first image?\n",
        "landsat.first().get('CLOUD_COVER').getInfo()"
      ],
      "metadata": {
        "colab": {
          "base_uri": "https://localhost:8080/"
        },
        "id": "F8IeYTd5wzbV",
        "outputId": "e2d81c41-7637-4160-9ff8-a4d20c970d5b"
      },
      "execution_count": null,
      "outputs": [
        {
          "output_type": "execute_result",
          "data": {
            "text/plain": [
              "0.05"
            ]
          },
          "metadata": {},
          "execution_count": 13
        }
      ]
    },
    {
      "cell_type": "code",
      "source": [
        "# when was this image taken?\n",
        "landsat.first().get('DATE_ACQUIRED').getInfo()"
      ],
      "metadata": {
        "colab": {
          "base_uri": "https://localhost:8080/",
          "height": 35
        },
        "id": "miqQ5jv1xFu0",
        "outputId": "8b121a53-b9fd-41ad-bcba-f1cc11053046"
      },
      "execution_count": null,
      "outputs": [
        {
          "output_type": "execute_result",
          "data": {
            "text/plain": [
              "'2018-10-07'"
            ],
            "application/vnd.google.colaboratory.intrinsic+json": {
              "type": "string"
            }
          },
          "metadata": {},
          "execution_count": 14
        }
      ]
    },
    {
      "cell_type": "code",
      "source": [
        "# what bands did we get?\n",
        "landsat.first().bandNames().getInfo()"
      ],
      "metadata": {
        "colab": {
          "base_uri": "https://localhost:8080/"
        },
        "id": "55hRPAWL2kFh",
        "outputId": "2f879956-4116-4a7c-94d9-2dd92eb7b093"
      },
      "execution_count": null,
      "outputs": [
        {
          "output_type": "execute_result",
          "data": {
            "text/plain": [
              "['SR_B1',\n",
              " 'SR_B2',\n",
              " 'SR_B3',\n",
              " 'SR_B4',\n",
              " 'SR_B5',\n",
              " 'SR_B6',\n",
              " 'SR_B7',\n",
              " 'SR_QA_AEROSOL',\n",
              " 'ST_B10',\n",
              " 'ST_ATRAN',\n",
              " 'ST_CDIST',\n",
              " 'ST_DRAD',\n",
              " 'ST_EMIS',\n",
              " 'ST_EMSD',\n",
              " 'ST_QA',\n",
              " 'ST_TRAD',\n",
              " 'ST_URAD',\n",
              " 'QA_PIXEL',\n",
              " 'QA_RADSAT']"
            ]
          },
          "metadata": {},
          "execution_count": 15
        }
      ]
    },
    {
      "cell_type": "code",
      "source": [
        "# put the images in a list\n",
        "landsat_list = landsat.toList(landsat.size());"
      ],
      "metadata": {
        "id": "odc0CyPH4-4v"
      },
      "execution_count": null,
      "outputs": []
    },
    {
      "cell_type": "code",
      "source": [
        "# set some parameters for the images\n",
        "parameters = {\n",
        "                'min': 7000,\n",
        "                'max': 16000,\n",
        "                'dimensions': 800, # square size in pixels\n",
        "                'bands': ['SR_B4', 'SR_B3', 'SR_B2'] # bands to display (r,g,b)\n",
        "             }"
      ],
      "metadata": {
        "id": "RgSt-O8A5HyE"
      },
      "execution_count": null,
      "outputs": []
    },
    {
      "cell_type": "code",
      "source": [
        "# create an empty data container\n",
        "data = []\n",
        "\n",
        "# loop through each image and display it\n",
        "for i in range(landsat.size().getInfo()):\n",
        "\n",
        "    # when was this image taken?\n",
        "    date = ee.Image(landsat_list.get(i)).get('DATE_ACQUIRED').getInfo()\n",
        "    \n",
        "    # cloud cover\n",
        "    cloud = ee.Image(landsat_list.get(i)).get('CLOUD_COVER').getInfo()\n",
        "    \n",
        "    # print the image info\n",
        "    print('Image #',i,date,'Cloud cover:',cloud)\n",
        "    \n",
        "    # display the image\n",
        "    display(Image(url = ee.Image(landsat_list.get(i)).getThumbUrl(parameters)))\n",
        "\n",
        "    # data to list\n",
        "    this_data = [i,date,cloud]\n",
        "\n",
        "    # append the data \n",
        "    data.append(this_data)\n",
        "    \n",
        "\n",
        "# Create the pandas DataFrame\n",
        "df = pd.DataFrame(data, columns = ['Image #', 'Date', 'Cloud Cover'])"
      ],
      "metadata": {
        "colab": {
          "base_uri": "https://localhost:8080/",
          "height": 1000
        },
        "id": "syGX-OgU5Oj3",
        "outputId": "75604d98-dd82-4350-a9c5-93bfe1fadd09"
      },
      "execution_count": null,
      "outputs": [
        {
          "output_type": "stream",
          "name": "stdout",
          "text": [
            "Image # 0 2018-10-07 Cloud cover: 0.05\n"
          ]
        },
        {
          "output_type": "display_data",
          "data": {
            "text/plain": [
              "<IPython.core.display.Image object>"
            ],
            "text/html": [
              "<img src=\"https://earthengine.googleapis.com/v1alpha/projects/earthengine-legacy/thumbnails/c3600bb1f8ef4fe3d5e3e2589bfbb59c-f45dde6d05c55db96b61d83a8db3b387:getPixels\"/>"
            ]
          },
          "metadata": {}
        },
        {
          "output_type": "stream",
          "name": "stdout",
          "text": [
            "Image # 1 2018-10-23 Cloud cover: 73.04\n"
          ]
        },
        {
          "output_type": "display_data",
          "data": {
            "text/plain": [
              "<IPython.core.display.Image object>"
            ],
            "text/html": [
              "<img src=\"https://earthengine.googleapis.com/v1alpha/projects/earthengine-legacy/thumbnails/60cf4bf56a8cdeb7fbd00dd601184920-b5ab890e8a6d9caee4b7f3ab6bf0fa46:getPixels\"/>"
            ]
          },
          "metadata": {}
        },
        {
          "output_type": "stream",
          "name": "stdout",
          "text": [
            "Image # 2 2018-11-08 Cloud cover: 11.83\n"
          ]
        },
        {
          "output_type": "display_data",
          "data": {
            "text/plain": [
              "<IPython.core.display.Image object>"
            ],
            "text/html": [
              "<img src=\"https://earthengine.googleapis.com/v1alpha/projects/earthengine-legacy/thumbnails/ff39f72550ff189412ccc14ca117c989-fdcbc7c5f281a63996788862d648ab29:getPixels\"/>"
            ]
          },
          "metadata": {}
        },
        {
          "output_type": "stream",
          "name": "stdout",
          "text": [
            "Image # 3 2018-11-24 Cloud cover: 67.16\n"
          ]
        },
        {
          "output_type": "display_data",
          "data": {
            "text/plain": [
              "<IPython.core.display.Image object>"
            ],
            "text/html": [
              "<img src=\"https://earthengine.googleapis.com/v1alpha/projects/earthengine-legacy/thumbnails/aece17d7ee449dcf1f477141525ac899-9e0b167965cd1773df93cea80cc2a23e:getPixels\"/>"
            ]
          },
          "metadata": {}
        },
        {
          "output_type": "stream",
          "name": "stdout",
          "text": [
            "Image # 4 2018-12-10 Cloud cover: 56.09\n"
          ]
        },
        {
          "output_type": "display_data",
          "data": {
            "text/plain": [
              "<IPython.core.display.Image object>"
            ],
            "text/html": [
              "<img src=\"https://earthengine.googleapis.com/v1alpha/projects/earthengine-legacy/thumbnails/80564b0df6a5fd46dcb55746c94831d6-339e94f16b8e108653132ab68d8c2472:getPixels\"/>"
            ]
          },
          "metadata": {}
        },
        {
          "output_type": "stream",
          "name": "stdout",
          "text": [
            "Image # 5 2018-12-26 Cloud cover: 5.99\n"
          ]
        },
        {
          "output_type": "display_data",
          "data": {
            "text/plain": [
              "<IPython.core.display.Image object>"
            ],
            "text/html": [
              "<img src=\"https://earthengine.googleapis.com/v1alpha/projects/earthengine-legacy/thumbnails/110918573050cae086b82cffae203603-ee2d4ada67a25841b91d9e9d0671eea9:getPixels\"/>"
            ]
          },
          "metadata": {}
        },
        {
          "output_type": "stream",
          "name": "stdout",
          "text": [
            "Image # 6 2019-01-11 Cloud cover: 80.06\n"
          ]
        },
        {
          "output_type": "display_data",
          "data": {
            "text/plain": [
              "<IPython.core.display.Image object>"
            ],
            "text/html": [
              "<img src=\"https://earthengine.googleapis.com/v1alpha/projects/earthengine-legacy/thumbnails/c17ee5f939b1d6fe64708731e65e2ab4-1b6acd29c86ff87a5146c04694ba045a:getPixels\"/>"
            ]
          },
          "metadata": {}
        },
        {
          "output_type": "stream",
          "name": "stdout",
          "text": [
            "Image # 7 2019-01-27 Cloud cover: 5.21\n"
          ]
        },
        {
          "output_type": "display_data",
          "data": {
            "text/plain": [
              "<IPython.core.display.Image object>"
            ],
            "text/html": [
              "<img src=\"https://earthengine.googleapis.com/v1alpha/projects/earthengine-legacy/thumbnails/bca4cc2707c4de87b256073b4842ac12-9a69da269817f05aa0202dac80ef36a1:getPixels\"/>"
            ]
          },
          "metadata": {}
        }
      ]
    },
    {
      "cell_type": "code",
      "source": [
        "# our data in a dataframe\n",
        "df"
      ],
      "metadata": {
        "colab": {
          "base_uri": "https://localhost:8080/",
          "height": 300
        },
        "id": "p7alCOCS5fQc",
        "outputId": "7d2deb9b-ddbd-43c9-f9ea-5cdc82ceb46d"
      },
      "execution_count": null,
      "outputs": [
        {
          "output_type": "execute_result",
          "data": {
            "text/plain": [
              "   Image #        Date  Cloud Cover\n",
              "0        0  2018-10-07         0.05\n",
              "1        1  2018-10-23        73.04\n",
              "2        2  2018-11-08        11.83\n",
              "3        3  2018-11-24        67.16\n",
              "4        4  2018-12-10        56.09\n",
              "5        5  2018-12-26         5.99\n",
              "6        6  2019-01-11        80.06\n",
              "7        7  2019-01-27         5.21"
            ],
            "text/html": [
              "\n",
              "  <div id=\"df-212a6cab-34b2-40c6-a314-a09ef9e3afc1\">\n",
              "    <div class=\"colab-df-container\">\n",
              "      <div>\n",
              "<style scoped>\n",
              "    .dataframe tbody tr th:only-of-type {\n",
              "        vertical-align: middle;\n",
              "    }\n",
              "\n",
              "    .dataframe tbody tr th {\n",
              "        vertical-align: top;\n",
              "    }\n",
              "\n",
              "    .dataframe thead th {\n",
              "        text-align: right;\n",
              "    }\n",
              "</style>\n",
              "<table border=\"1\" class=\"dataframe\">\n",
              "  <thead>\n",
              "    <tr style=\"text-align: right;\">\n",
              "      <th></th>\n",
              "      <th>Image #</th>\n",
              "      <th>Date</th>\n",
              "      <th>Cloud Cover</th>\n",
              "    </tr>\n",
              "  </thead>\n",
              "  <tbody>\n",
              "    <tr>\n",
              "      <th>0</th>\n",
              "      <td>0</td>\n",
              "      <td>2018-10-07</td>\n",
              "      <td>0.05</td>\n",
              "    </tr>\n",
              "    <tr>\n",
              "      <th>1</th>\n",
              "      <td>1</td>\n",
              "      <td>2018-10-23</td>\n",
              "      <td>73.04</td>\n",
              "    </tr>\n",
              "    <tr>\n",
              "      <th>2</th>\n",
              "      <td>2</td>\n",
              "      <td>2018-11-08</td>\n",
              "      <td>11.83</td>\n",
              "    </tr>\n",
              "    <tr>\n",
              "      <th>3</th>\n",
              "      <td>3</td>\n",
              "      <td>2018-11-24</td>\n",
              "      <td>67.16</td>\n",
              "    </tr>\n",
              "    <tr>\n",
              "      <th>4</th>\n",
              "      <td>4</td>\n",
              "      <td>2018-12-10</td>\n",
              "      <td>56.09</td>\n",
              "    </tr>\n",
              "    <tr>\n",
              "      <th>5</th>\n",
              "      <td>5</td>\n",
              "      <td>2018-12-26</td>\n",
              "      <td>5.99</td>\n",
              "    </tr>\n",
              "    <tr>\n",
              "      <th>6</th>\n",
              "      <td>6</td>\n",
              "      <td>2019-01-11</td>\n",
              "      <td>80.06</td>\n",
              "    </tr>\n",
              "    <tr>\n",
              "      <th>7</th>\n",
              "      <td>7</td>\n",
              "      <td>2019-01-27</td>\n",
              "      <td>5.21</td>\n",
              "    </tr>\n",
              "  </tbody>\n",
              "</table>\n",
              "</div>\n",
              "      <button class=\"colab-df-convert\" onclick=\"convertToInteractive('df-212a6cab-34b2-40c6-a314-a09ef9e3afc1')\"\n",
              "              title=\"Convert this dataframe to an interactive table.\"\n",
              "              style=\"display:none;\">\n",
              "        \n",
              "  <svg xmlns=\"http://www.w3.org/2000/svg\" height=\"24px\"viewBox=\"0 0 24 24\"\n",
              "       width=\"24px\">\n",
              "    <path d=\"M0 0h24v24H0V0z\" fill=\"none\"/>\n",
              "    <path d=\"M18.56 5.44l.94 2.06.94-2.06 2.06-.94-2.06-.94-.94-2.06-.94 2.06-2.06.94zm-11 1L8.5 8.5l.94-2.06 2.06-.94-2.06-.94L8.5 2.5l-.94 2.06-2.06.94zm10 10l.94 2.06.94-2.06 2.06-.94-2.06-.94-.94-2.06-.94 2.06-2.06.94z\"/><path d=\"M17.41 7.96l-1.37-1.37c-.4-.4-.92-.59-1.43-.59-.52 0-1.04.2-1.43.59L10.3 9.45l-7.72 7.72c-.78.78-.78 2.05 0 2.83L4 21.41c.39.39.9.59 1.41.59.51 0 1.02-.2 1.41-.59l7.78-7.78 2.81-2.81c.8-.78.8-2.07 0-2.86zM5.41 20L4 18.59l7.72-7.72 1.47 1.35L5.41 20z\"/>\n",
              "  </svg>\n",
              "      </button>\n",
              "      \n",
              "  <style>\n",
              "    .colab-df-container {\n",
              "      display:flex;\n",
              "      flex-wrap:wrap;\n",
              "      gap: 12px;\n",
              "    }\n",
              "\n",
              "    .colab-df-convert {\n",
              "      background-color: #E8F0FE;\n",
              "      border: none;\n",
              "      border-radius: 50%;\n",
              "      cursor: pointer;\n",
              "      display: none;\n",
              "      fill: #1967D2;\n",
              "      height: 32px;\n",
              "      padding: 0 0 0 0;\n",
              "      width: 32px;\n",
              "    }\n",
              "\n",
              "    .colab-df-convert:hover {\n",
              "      background-color: #E2EBFA;\n",
              "      box-shadow: 0px 1px 2px rgba(60, 64, 67, 0.3), 0px 1px 3px 1px rgba(60, 64, 67, 0.15);\n",
              "      fill: #174EA6;\n",
              "    }\n",
              "\n",
              "    [theme=dark] .colab-df-convert {\n",
              "      background-color: #3B4455;\n",
              "      fill: #D2E3FC;\n",
              "    }\n",
              "\n",
              "    [theme=dark] .colab-df-convert:hover {\n",
              "      background-color: #434B5C;\n",
              "      box-shadow: 0px 1px 3px 1px rgba(0, 0, 0, 0.15);\n",
              "      filter: drop-shadow(0px 1px 2px rgba(0, 0, 0, 0.3));\n",
              "      fill: #FFFFFF;\n",
              "    }\n",
              "  </style>\n",
              "\n",
              "      <script>\n",
              "        const buttonEl =\n",
              "          document.querySelector('#df-212a6cab-34b2-40c6-a314-a09ef9e3afc1 button.colab-df-convert');\n",
              "        buttonEl.style.display =\n",
              "          google.colab.kernel.accessAllowed ? 'block' : 'none';\n",
              "\n",
              "        async function convertToInteractive(key) {\n",
              "          const element = document.querySelector('#df-212a6cab-34b2-40c6-a314-a09ef9e3afc1');\n",
              "          const dataTable =\n",
              "            await google.colab.kernel.invokeFunction('convertToInteractive',\n",
              "                                                     [key], {});\n",
              "          if (!dataTable) return;\n",
              "\n",
              "          const docLinkHtml = 'Like what you see? Visit the ' +\n",
              "            '<a target=\"_blank\" href=https://colab.research.google.com/notebooks/data_table.ipynb>data table notebook</a>'\n",
              "            + ' to learn more about interactive tables.';\n",
              "          element.innerHTML = '';\n",
              "          dataTable['output_type'] = 'display_data';\n",
              "          await google.colab.output.renderOutput(dataTable, element);\n",
              "          const docLink = document.createElement('div');\n",
              "          docLink.innerHTML = docLinkHtml;\n",
              "          element.appendChild(docLink);\n",
              "        }\n",
              "      </script>\n",
              "    </div>\n",
              "  </div>\n",
              "  "
            ]
          },
          "metadata": {},
          "execution_count": 19
        }
      ]
    },
    {
      "cell_type": "code",
      "source": [
        "# create a list of images we want (before, during, after)\n",
        "landsat_sequence = [0,2,5]"
      ],
      "metadata": {
        "id": "3VmOSLgV5q7C"
      },
      "execution_count": null,
      "outputs": []
    },
    {
      "cell_type": "code",
      "source": [
        "# Define a region of interest with a buffer zone of 20 km\n",
        "roi = poi.buffer(20000) # meters"
      ],
      "metadata": {
        "id": "PXw3FYLp54gz"
      },
      "execution_count": null,
      "outputs": []
    },
    {
      "cell_type": "code",
      "source": [
        "parameters = {\n",
        "                'min': 6000,\n",
        "                'max': 16000,\n",
        "                'dimensions': 800,\n",
        "                'bands': ['SR_B4', 'SR_B3', 'SR_B2'],\n",
        "                'region':roi\n",
        "             }"
      ],
      "metadata": {
        "id": "7Ax8fgLx59P0"
      },
      "execution_count": null,
      "outputs": []
    },
    {
      "cell_type": "code",
      "source": [
        "for i in landsat_sequence:\n",
        "    \n",
        "    # when was this image taken?\n",
        "    date = ee.Image(landsat_list.get(i)).get('DATE_ACQUIRED').getInfo()\n",
        "\n",
        "    # cloud cover\n",
        "    cloud = ee.Image(landsat_list.get(i)).get('CLOUD_COVER').getInfo()\n",
        "    \n",
        "    print('Image #',i,date,'Cloud cover:',cloud)\n",
        "    \n",
        "    display(Image(url = ee.Image(landsat_list.get(i)).getThumbUrl(parameters)))"
      ],
      "metadata": {
        "colab": {
          "base_uri": "https://localhost:8080/",
          "height": 1000
        },
        "id": "TCaMxQhP6Bqh",
        "outputId": "0af83e91-a95e-41a2-a2d0-97083759344b"
      },
      "execution_count": null,
      "outputs": [
        {
          "output_type": "stream",
          "name": "stdout",
          "text": [
            "Image # 0 2018-10-07 Cloud cover: 0.05\n"
          ]
        },
        {
          "output_type": "display_data",
          "data": {
            "text/plain": [
              "<IPython.core.display.Image object>"
            ],
            "text/html": [
              "<img src=\"https://earthengine.googleapis.com/v1alpha/projects/earthengine-legacy/thumbnails/c80ef7099e7decf0ee710381714991b7-3fe15a71691fbec262484d742437f95f:getPixels\"/>"
            ]
          },
          "metadata": {}
        },
        {
          "output_type": "stream",
          "name": "stdout",
          "text": [
            "Image # 2 2018-11-08 Cloud cover: 11.83\n"
          ]
        },
        {
          "output_type": "display_data",
          "data": {
            "text/plain": [
              "<IPython.core.display.Image object>"
            ],
            "text/html": [
              "<img src=\"https://earthengine.googleapis.com/v1alpha/projects/earthengine-legacy/thumbnails/f7bfb6fc3a76fb3681ee49e2c94dcc9c-566cd25574dcb022ccaf27bb9d714da7:getPixels\"/>"
            ]
          },
          "metadata": {}
        },
        {
          "output_type": "stream",
          "name": "stdout",
          "text": [
            "Image # 5 2018-12-26 Cloud cover: 5.99\n"
          ]
        },
        {
          "output_type": "display_data",
          "data": {
            "text/plain": [
              "<IPython.core.display.Image object>"
            ],
            "text/html": [
              "<img src=\"https://earthengine.googleapis.com/v1alpha/projects/earthengine-legacy/thumbnails/f25a0b83b61f9e49a6029c307073ffdf-c8b252bb54c52ba19094ba6d650c6dc1:getPixels\"/>"
            ]
          },
          "metadata": {}
        }
      ]
    },
    {
      "cell_type": "markdown",
      "source": [
        "**Normalized Difference Vegetation Index (NDVI)**\n",
        "The normalized difference vegetation index (NDVI) is a simple graphical indicator that can be used to analyze remote sensing measurements, often from a space platform, assessing whether or not the target being observed contains live green vegetation."
      ],
      "metadata": {
        "id": "ozIUX7u76wv3"
      }
    },
    {
      "cell_type": "code",
      "source": [
        "# ndvi palette: red is low, green is high vegetation\n",
        "palette = ['red', 'yellow', 'green']\n",
        "\n",
        "ndvi_parameters = {'min': 0,\n",
        "                   'max': 0.4,\n",
        "                   'dimensions': 512,\n",
        "                   'palette': palette,\n",
        "                   'region': roi}"
      ],
      "metadata": {
        "id": "KG-CNE3j6PEy"
      },
      "execution_count": null,
      "outputs": []
    },
    {
      "cell_type": "code",
      "source": [
        "for i in landsat_sequence:\n",
        "\n",
        "    # when was this image taken?\n",
        "    date = ee.Image(landsat_list.get(i)).get('DATE_ACQUIRED').getInfo()\n",
        "    \n",
        "    # print some information\n",
        "    print('Image #',i,date)\n",
        "    \n",
        "    # display the image\n",
        "    display(Image(url=ee.Image(landsat_list.get(i)).normalizedDifference(['SR_B5', 'SR_B4']).getThumbUrl(ndvi_parameters)))"
      ],
      "metadata": {
        "colab": {
          "base_uri": "https://localhost:8080/",
          "height": 1000
        },
        "id": "xEPUGXku7AdA",
        "outputId": "bc9cc2aa-c7fc-4f93-8777-2f5c3e0991ed"
      },
      "execution_count": null,
      "outputs": [
        {
          "output_type": "stream",
          "name": "stdout",
          "text": [
            "Image # 0 2018-10-07\n"
          ]
        },
        {
          "output_type": "display_data",
          "data": {
            "text/plain": [
              "<IPython.core.display.Image object>"
            ],
            "text/html": [
              "<img src=\"https://earthengine.googleapis.com/v1alpha/projects/earthengine-legacy/thumbnails/b1bce2fb07b529a0d061ca4f7578b610-213e1eec35b9cf8a1c2d8bbe37b9f9fa:getPixels\"/>"
            ]
          },
          "metadata": {}
        },
        {
          "output_type": "stream",
          "name": "stdout",
          "text": [
            "Image # 2 2018-11-08\n"
          ]
        },
        {
          "output_type": "display_data",
          "data": {
            "text/plain": [
              "<IPython.core.display.Image object>"
            ],
            "text/html": [
              "<img src=\"https://earthengine.googleapis.com/v1alpha/projects/earthengine-legacy/thumbnails/72858ef827c6c41ab0e82149ab664f13-0f6d2511f11395f71a0dc76fbb986588:getPixels\"/>"
            ]
          },
          "metadata": {}
        },
        {
          "output_type": "stream",
          "name": "stdout",
          "text": [
            "Image # 5 2018-12-26\n"
          ]
        },
        {
          "output_type": "display_data",
          "data": {
            "text/plain": [
              "<IPython.core.display.Image object>"
            ],
            "text/html": [
              "<img src=\"https://earthengine.googleapis.com/v1alpha/projects/earthengine-legacy/thumbnails/7c0810c78d032b702de8a376ffcf4ac6-9aeea46942968598dcb7c3f2093712b1:getPixels\"/>"
            ]
          },
          "metadata": {}
        }
      ]
    },
    {
      "cell_type": "code",
      "source": [
        "m = folium.Map(location=[lat,long])\n",
        "m"
      ],
      "metadata": {
        "colab": {
          "base_uri": "https://localhost:8080/",
          "height": 904
        },
        "id": "IU8Nu3KI7PVA",
        "outputId": "5390ddbe-7a36-408c-e467-6ecf142c9108"
      },
      "execution_count": null,
      "outputs": [
        {
          "output_type": "execute_result",
          "data": {
            "text/plain": [
              "<folium.folium.Map at 0x7f44088a5450>"
            ],
            "text/html": [
              "<div style=\"width:100%;\"><div style=\"position:relative;width:100%;height:0;padding-bottom:60%;\"><span style=\"color:#565656\">Make this Notebook Trusted to load map: File -> Trust Notebook</span><iframe src=\"about:blank\" style=\"position:absolute;width:100%;height:100%;left:0;top:0;border:none !important;\" data-html=%3C%21DOCTYPE%20html%3E%0A%3Chead%3E%20%20%20%20%0A%20%20%20%20%3Cmeta%20http-equiv%3D%22content-type%22%20content%3D%22text/html%3B%20charset%3DUTF-8%22%20/%3E%0A%20%20%20%20%3Cscript%3EL_PREFER_CANVAS%3Dfalse%3B%20L_NO_TOUCH%3Dfalse%3B%20L_DISABLE_3D%3Dfalse%3B%3C/script%3E%0A%20%20%20%20%3Cscript%20src%3D%22https%3A//cdn.jsdelivr.net/npm/leaflet%401.4.0/dist/leaflet.js%22%3E%3C/script%3E%0A%20%20%20%20%3Cscript%20src%3D%22https%3A//code.jquery.com/jquery-1.12.4.min.js%22%3E%3C/script%3E%0A%20%20%20%20%3Cscript%20src%3D%22https%3A//maxcdn.bootstrapcdn.com/bootstrap/3.2.0/js/bootstrap.min.js%22%3E%3C/script%3E%0A%20%20%20%20%3Cscript%20src%3D%22https%3A//cdnjs.cloudflare.com/ajax/libs/Leaflet.awesome-markers/2.0.2/leaflet.awesome-markers.js%22%3E%3C/script%3E%0A%20%20%20%20%3Clink%20rel%3D%22stylesheet%22%20href%3D%22https%3A//cdn.jsdelivr.net/npm/leaflet%401.4.0/dist/leaflet.css%22/%3E%0A%20%20%20%20%3Clink%20rel%3D%22stylesheet%22%20href%3D%22https%3A//maxcdn.bootstrapcdn.com/bootstrap/3.2.0/css/bootstrap.min.css%22/%3E%0A%20%20%20%20%3Clink%20rel%3D%22stylesheet%22%20href%3D%22https%3A//maxcdn.bootstrapcdn.com/bootstrap/3.2.0/css/bootstrap-theme.min.css%22/%3E%0A%20%20%20%20%3Clink%20rel%3D%22stylesheet%22%20href%3D%22https%3A//maxcdn.bootstrapcdn.com/font-awesome/4.6.3/css/font-awesome.min.css%22/%3E%0A%20%20%20%20%3Clink%20rel%3D%22stylesheet%22%20href%3D%22https%3A//cdnjs.cloudflare.com/ajax/libs/Leaflet.awesome-markers/2.0.2/leaflet.awesome-markers.css%22/%3E%0A%20%20%20%20%3Clink%20rel%3D%22stylesheet%22%20href%3D%22https%3A//rawcdn.githack.com/python-visualization/folium/master/folium/templates/leaflet.awesome.rotate.css%22/%3E%0A%20%20%20%20%3Cstyle%3Ehtml%2C%20body%20%7Bwidth%3A%20100%25%3Bheight%3A%20100%25%3Bmargin%3A%200%3Bpadding%3A%200%3B%7D%3C/style%3E%0A%20%20%20%20%3Cstyle%3E%23map%20%7Bposition%3Aabsolute%3Btop%3A0%3Bbottom%3A0%3Bright%3A0%3Bleft%3A0%3B%7D%3C/style%3E%0A%20%20%20%20%0A%20%20%20%20%3Cmeta%20name%3D%22viewport%22%20content%3D%22width%3Ddevice-width%2C%0A%20%20%20%20%20%20%20%20initial-scale%3D1.0%2C%20maximum-scale%3D1.0%2C%20user-scalable%3Dno%22%20/%3E%0A%20%20%20%20%3Cstyle%3E%23map_ed2da6dbd77a49cd862b275a1ac2a86c%20%7B%0A%20%20%20%20%20%20%20%20position%3A%20relative%3B%0A%20%20%20%20%20%20%20%20width%3A%20100.0%25%3B%0A%20%20%20%20%20%20%20%20height%3A%20100.0%25%3B%0A%20%20%20%20%20%20%20%20left%3A%200.0%25%3B%0A%20%20%20%20%20%20%20%20top%3A%200.0%25%3B%0A%20%20%20%20%20%20%20%20%7D%0A%20%20%20%20%3C/style%3E%0A%3C/head%3E%0A%3Cbody%3E%20%20%20%20%0A%20%20%20%20%0A%20%20%20%20%3Cdiv%20class%3D%22folium-map%22%20id%3D%22map_ed2da6dbd77a49cd862b275a1ac2a86c%22%20%3E%3C/div%3E%0A%3C/body%3E%0A%3Cscript%3E%20%20%20%20%0A%20%20%20%20%0A%20%20%20%20%0A%20%20%20%20%20%20%20%20var%20bounds%20%3D%20null%3B%0A%20%20%20%20%0A%0A%20%20%20%20var%20map_ed2da6dbd77a49cd862b275a1ac2a86c%20%3D%20L.map%28%0A%20%20%20%20%20%20%20%20%27map_ed2da6dbd77a49cd862b275a1ac2a86c%27%2C%20%7B%0A%20%20%20%20%20%20%20%20center%3A%20%5B39.444012%2C%20-121.833619%5D%2C%0A%20%20%20%20%20%20%20%20zoom%3A%2010%2C%0A%20%20%20%20%20%20%20%20maxBounds%3A%20bounds%2C%0A%20%20%20%20%20%20%20%20layers%3A%20%5B%5D%2C%0A%20%20%20%20%20%20%20%20worldCopyJump%3A%20false%2C%0A%20%20%20%20%20%20%20%20crs%3A%20L.CRS.EPSG3857%2C%0A%20%20%20%20%20%20%20%20zoomControl%3A%20true%2C%0A%20%20%20%20%20%20%20%20%7D%29%3B%0A%0A%0A%20%20%20%20%0A%20%20%20%20var%20tile_layer_8b9b7ddfadcd4268985e63ad2f9668a2%20%3D%20L.tileLayer%28%0A%20%20%20%20%20%20%20%20%27https%3A//%7Bs%7D.tile.openstreetmap.org/%7Bz%7D/%7Bx%7D/%7By%7D.png%27%2C%0A%20%20%20%20%20%20%20%20%7B%0A%20%20%20%20%20%20%20%20%22attribution%22%3A%20null%2C%0A%20%20%20%20%20%20%20%20%22detectRetina%22%3A%20false%2C%0A%20%20%20%20%20%20%20%20%22maxNativeZoom%22%3A%2018%2C%0A%20%20%20%20%20%20%20%20%22maxZoom%22%3A%2018%2C%0A%20%20%20%20%20%20%20%20%22minZoom%22%3A%200%2C%0A%20%20%20%20%20%20%20%20%22noWrap%22%3A%20false%2C%0A%20%20%20%20%20%20%20%20%22opacity%22%3A%201%2C%0A%20%20%20%20%20%20%20%20%22subdomains%22%3A%20%22abc%22%2C%0A%20%20%20%20%20%20%20%20%22tms%22%3A%20false%0A%7D%29.addTo%28map_ed2da6dbd77a49cd862b275a1ac2a86c%29%3B%0A%3C/script%3E onload=\"this.contentDocument.open();this.contentDocument.write(    decodeURIComponent(this.getAttribute('data-html')));this.contentDocument.close();\" allowfullscreen webkitallowfullscreen mozallowfullscreen></iframe></div></div>"
            ]
          },
          "metadata": {},
          "execution_count": 33
        }
      ]
    },
    {
      "cell_type": "code",
      "source": [
        ""
      ],
      "metadata": {
        "colab": {
          "base_uri": "https://localhost:8080/"
        },
        "id": "S0RBnpC37ZfK",
        "outputId": "2f5ff4a3-2eda-4636-bdf3-7b3e5a6bd1f3"
      },
      "execution_count": null,
      "outputs": [
        {
          "output_type": "execute_result",
          "data": {
            "text/plain": [
              "-121.833619"
            ]
          },
          "metadata": {},
          "execution_count": 31
        }
      ]
    },
    {
      "cell_type": "code",
      "source": [
        "# Google function that allows ee layers on folium\n",
        "def add_ee_layer(self, ee_image_object, vis_params, name):\n",
        "    \"\"\"Adds a method for displaying Earth Engine image tiles to folium map.\"\"\"\n",
        "    map_id_dict = ee.Image(ee_image_object).getMapId(vis_params)\n",
        "    folium.raster_layers.TileLayer(\n",
        "        tiles=map_id_dict['tile_fetcher'].url_format,\n",
        "        attr='Map Data &copy; <a href=\"https://earthengine.google.com/\">Google Earth Engine</a>',\n",
        "        name=name,\n",
        "        overlay=True,\n",
        "        control=True\n",
        "    ).add_to(self)\n",
        "\n",
        "# Add Earth Engine drawing method to folium\n",
        "folium.Map.add_ee_layer = add_ee_layer"
      ],
      "metadata": {
        "id": "3sYydh6L96yR"
      },
      "execution_count": null,
      "outputs": []
    },
    {
      "cell_type": "code",
      "source": [
        "# Create a map\n",
        "my_map = folium.Map(location=[lat, long], zoom_start=10)\n",
        "\n",
        "# Add a layer for each satellite image of interest (before, during and after)\n",
        "for i in landsat_sequence:\n",
        "\n",
        "    # when was this image taken?\n",
        "    date = ee.Image(landsat_list.get(i)).get('DATE_ACQUIRED').getInfo()\n",
        "\n",
        "    my_map.add_ee_layer(ee.Image(landsat_list.get(i)).normalizedDifference(['SR_B5', 'SR_B4']), \n",
        "                        ndvi_parameters, \n",
        "                        name=date)\n",
        "    \n",
        "# Add a layer control panel to the map\n",
        "folium.LayerControl(collapsed = False).add_to(my_map)\n",
        "\n",
        "# Display the map.\n",
        "display(my_map)"
      ],
      "metadata": {
        "colab": {
          "base_uri": "https://localhost:8080/",
          "height": 904
        },
        "id": "GPioIQB0-of2",
        "outputId": "7f08e182-4d37-4d62-ba71-04e3d075a857"
      },
      "execution_count": null,
      "outputs": [
        {
          "output_type": "display_data",
          "data": {
            "text/plain": [
              "<folium.folium.Map at 0x7f44087eb710>"
            ],
            "text/html": [
              "<div style=\"width:100%;\"><div style=\"position:relative;width:100%;height:0;padding-bottom:60%;\"><span style=\"color:#565656\">Make this Notebook Trusted to load map: File -> Trust Notebook</span><iframe src=\"about:blank\" style=\"position:absolute;width:100%;height:100%;left:0;top:0;border:none !important;\" data-html=%3C%21DOCTYPE%20html%3E%0A%3Chead%3E%20%20%20%20%0A%20%20%20%20%3Cmeta%20http-equiv%3D%22content-type%22%20content%3D%22text/html%3B%20charset%3DUTF-8%22%20/%3E%0A%20%20%20%20%3Cscript%3EL_PREFER_CANVAS%3Dfalse%3B%20L_NO_TOUCH%3Dfalse%3B%20L_DISABLE_3D%3Dfalse%3B%3C/script%3E%0A%20%20%20%20%3Cscript%20src%3D%22https%3A//cdn.jsdelivr.net/npm/leaflet%401.4.0/dist/leaflet.js%22%3E%3C/script%3E%0A%20%20%20%20%3Cscript%20src%3D%22https%3A//code.jquery.com/jquery-1.12.4.min.js%22%3E%3C/script%3E%0A%20%20%20%20%3Cscript%20src%3D%22https%3A//maxcdn.bootstrapcdn.com/bootstrap/3.2.0/js/bootstrap.min.js%22%3E%3C/script%3E%0A%20%20%20%20%3Cscript%20src%3D%22https%3A//cdnjs.cloudflare.com/ajax/libs/Leaflet.awesome-markers/2.0.2/leaflet.awesome-markers.js%22%3E%3C/script%3E%0A%20%20%20%20%3Clink%20rel%3D%22stylesheet%22%20href%3D%22https%3A//cdn.jsdelivr.net/npm/leaflet%401.4.0/dist/leaflet.css%22/%3E%0A%20%20%20%20%3Clink%20rel%3D%22stylesheet%22%20href%3D%22https%3A//maxcdn.bootstrapcdn.com/bootstrap/3.2.0/css/bootstrap.min.css%22/%3E%0A%20%20%20%20%3Clink%20rel%3D%22stylesheet%22%20href%3D%22https%3A//maxcdn.bootstrapcdn.com/bootstrap/3.2.0/css/bootstrap-theme.min.css%22/%3E%0A%20%20%20%20%3Clink%20rel%3D%22stylesheet%22%20href%3D%22https%3A//maxcdn.bootstrapcdn.com/font-awesome/4.6.3/css/font-awesome.min.css%22/%3E%0A%20%20%20%20%3Clink%20rel%3D%22stylesheet%22%20href%3D%22https%3A//cdnjs.cloudflare.com/ajax/libs/Leaflet.awesome-markers/2.0.2/leaflet.awesome-markers.css%22/%3E%0A%20%20%20%20%3Clink%20rel%3D%22stylesheet%22%20href%3D%22https%3A//rawcdn.githack.com/python-visualization/folium/master/folium/templates/leaflet.awesome.rotate.css%22/%3E%0A%20%20%20%20%3Cstyle%3Ehtml%2C%20body%20%7Bwidth%3A%20100%25%3Bheight%3A%20100%25%3Bmargin%3A%200%3Bpadding%3A%200%3B%7D%3C/style%3E%0A%20%20%20%20%3Cstyle%3E%23map%20%7Bposition%3Aabsolute%3Btop%3A0%3Bbottom%3A0%3Bright%3A0%3Bleft%3A0%3B%7D%3C/style%3E%0A%20%20%20%20%0A%20%20%20%20%3Cmeta%20name%3D%22viewport%22%20content%3D%22width%3Ddevice-width%2C%0A%20%20%20%20%20%20%20%20initial-scale%3D1.0%2C%20maximum-scale%3D1.0%2C%20user-scalable%3Dno%22%20/%3E%0A%20%20%20%20%3Cstyle%3E%23map_1147aeaa432f428fae08b154e328c4a8%20%7B%0A%20%20%20%20%20%20%20%20position%3A%20relative%3B%0A%20%20%20%20%20%20%20%20width%3A%20100.0%25%3B%0A%20%20%20%20%20%20%20%20height%3A%20100.0%25%3B%0A%20%20%20%20%20%20%20%20left%3A%200.0%25%3B%0A%20%20%20%20%20%20%20%20top%3A%200.0%25%3B%0A%20%20%20%20%20%20%20%20%7D%0A%20%20%20%20%3C/style%3E%0A%3C/head%3E%0A%3Cbody%3E%20%20%20%20%0A%20%20%20%20%0A%20%20%20%20%3Cdiv%20class%3D%22folium-map%22%20id%3D%22map_1147aeaa432f428fae08b154e328c4a8%22%20%3E%3C/div%3E%0A%3C/body%3E%0A%3Cscript%3E%20%20%20%20%0A%20%20%20%20%0A%20%20%20%20%0A%20%20%20%20%20%20%20%20var%20bounds%20%3D%20null%3B%0A%20%20%20%20%0A%0A%20%20%20%20var%20map_1147aeaa432f428fae08b154e328c4a8%20%3D%20L.map%28%0A%20%20%20%20%20%20%20%20%27map_1147aeaa432f428fae08b154e328c4a8%27%2C%20%7B%0A%20%20%20%20%20%20%20%20center%3A%20%5B39.444012%2C%20-121.833619%5D%2C%0A%20%20%20%20%20%20%20%20zoom%3A%2010%2C%0A%20%20%20%20%20%20%20%20maxBounds%3A%20bounds%2C%0A%20%20%20%20%20%20%20%20layers%3A%20%5B%5D%2C%0A%20%20%20%20%20%20%20%20worldCopyJump%3A%20false%2C%0A%20%20%20%20%20%20%20%20crs%3A%20L.CRS.EPSG3857%2C%0A%20%20%20%20%20%20%20%20zoomControl%3A%20true%2C%0A%20%20%20%20%20%20%20%20%7D%29%3B%0A%0A%0A%20%20%20%20%0A%20%20%20%20var%20tile_layer_be46d40da5634a499b6ab77a22a42ccc%20%3D%20L.tileLayer%28%0A%20%20%20%20%20%20%20%20%27https%3A//%7Bs%7D.tile.openstreetmap.org/%7Bz%7D/%7Bx%7D/%7By%7D.png%27%2C%0A%20%20%20%20%20%20%20%20%7B%0A%20%20%20%20%20%20%20%20%22attribution%22%3A%20null%2C%0A%20%20%20%20%20%20%20%20%22detectRetina%22%3A%20false%2C%0A%20%20%20%20%20%20%20%20%22maxNativeZoom%22%3A%2018%2C%0A%20%20%20%20%20%20%20%20%22maxZoom%22%3A%2018%2C%0A%20%20%20%20%20%20%20%20%22minZoom%22%3A%200%2C%0A%20%20%20%20%20%20%20%20%22noWrap%22%3A%20false%2C%0A%20%20%20%20%20%20%20%20%22opacity%22%3A%201%2C%0A%20%20%20%20%20%20%20%20%22subdomains%22%3A%20%22abc%22%2C%0A%20%20%20%20%20%20%20%20%22tms%22%3A%20false%0A%7D%29.addTo%28map_1147aeaa432f428fae08b154e328c4a8%29%3B%0A%20%20%20%20var%20tile_layer_a5bd73fc8702439fa67a96a7dbfdcc7c%20%3D%20L.tileLayer%28%0A%20%20%20%20%20%20%20%20%27https%3A//earthengine.googleapis.com/v1alpha/projects/earthengine-legacy/maps/6bdd390de9595b0e6e9fe608db620a7b-4cb7b9cd92eacb2f8c102ecf59e3b59f/tiles/%7Bz%7D/%7Bx%7D/%7By%7D%27%2C%0A%20%20%20%20%20%20%20%20%7B%0A%20%20%20%20%20%20%20%20%22attribution%22%3A%20%22Map%20Data%20%26copy%3B%20%3Ca%20href%3D%5C%22https%3A//earthengine.google.com/%5C%22%3EGoogle%20Earth%20Engine%3C/a%3E%22%2C%0A%20%20%20%20%20%20%20%20%22detectRetina%22%3A%20false%2C%0A%20%20%20%20%20%20%20%20%22maxNativeZoom%22%3A%2018%2C%0A%20%20%20%20%20%20%20%20%22maxZoom%22%3A%2018%2C%0A%20%20%20%20%20%20%20%20%22minZoom%22%3A%200%2C%0A%20%20%20%20%20%20%20%20%22noWrap%22%3A%20false%2C%0A%20%20%20%20%20%20%20%20%22opacity%22%3A%201%2C%0A%20%20%20%20%20%20%20%20%22subdomains%22%3A%20%22abc%22%2C%0A%20%20%20%20%20%20%20%20%22tms%22%3A%20false%0A%7D%29.addTo%28map_1147aeaa432f428fae08b154e328c4a8%29%3B%0A%20%20%20%20var%20tile_layer_0203335501484db6878670f5cab71f93%20%3D%20L.tileLayer%28%0A%20%20%20%20%20%20%20%20%27https%3A//earthengine.googleapis.com/v1alpha/projects/earthengine-legacy/maps/3d6d3c40628ac2a6c5559e93360e0b3e-178462d1a753b2894db01702a29adc40/tiles/%7Bz%7D/%7Bx%7D/%7By%7D%27%2C%0A%20%20%20%20%20%20%20%20%7B%0A%20%20%20%20%20%20%20%20%22attribution%22%3A%20%22Map%20Data%20%26copy%3B%20%3Ca%20href%3D%5C%22https%3A//earthengine.google.com/%5C%22%3EGoogle%20Earth%20Engine%3C/a%3E%22%2C%0A%20%20%20%20%20%20%20%20%22detectRetina%22%3A%20false%2C%0A%20%20%20%20%20%20%20%20%22maxNativeZoom%22%3A%2018%2C%0A%20%20%20%20%20%20%20%20%22maxZoom%22%3A%2018%2C%0A%20%20%20%20%20%20%20%20%22minZoom%22%3A%200%2C%0A%20%20%20%20%20%20%20%20%22noWrap%22%3A%20false%2C%0A%20%20%20%20%20%20%20%20%22opacity%22%3A%201%2C%0A%20%20%20%20%20%20%20%20%22subdomains%22%3A%20%22abc%22%2C%0A%20%20%20%20%20%20%20%20%22tms%22%3A%20false%0A%7D%29.addTo%28map_1147aeaa432f428fae08b154e328c4a8%29%3B%0A%20%20%20%20var%20tile_layer_3379f2e6421a4bd08e6bf45ebdf2cf29%20%3D%20L.tileLayer%28%0A%20%20%20%20%20%20%20%20%27https%3A//earthengine.googleapis.com/v1alpha/projects/earthengine-legacy/maps/e06d92373e32b66f7df80bff71f26992-7a8986fe607b3a160a64bfba32d3b617/tiles/%7Bz%7D/%7Bx%7D/%7By%7D%27%2C%0A%20%20%20%20%20%20%20%20%7B%0A%20%20%20%20%20%20%20%20%22attribution%22%3A%20%22Map%20Data%20%26copy%3B%20%3Ca%20href%3D%5C%22https%3A//earthengine.google.com/%5C%22%3EGoogle%20Earth%20Engine%3C/a%3E%22%2C%0A%20%20%20%20%20%20%20%20%22detectRetina%22%3A%20false%2C%0A%20%20%20%20%20%20%20%20%22maxNativeZoom%22%3A%2018%2C%0A%20%20%20%20%20%20%20%20%22maxZoom%22%3A%2018%2C%0A%20%20%20%20%20%20%20%20%22minZoom%22%3A%200%2C%0A%20%20%20%20%20%20%20%20%22noWrap%22%3A%20false%2C%0A%20%20%20%20%20%20%20%20%22opacity%22%3A%201%2C%0A%20%20%20%20%20%20%20%20%22subdomains%22%3A%20%22abc%22%2C%0A%20%20%20%20%20%20%20%20%22tms%22%3A%20false%0A%7D%29.addTo%28map_1147aeaa432f428fae08b154e328c4a8%29%3B%0A%20%20%20%20%0A%20%20%20%20%20%20%20%20%20%20%20%20var%20layer_control_5751c80ad3814c169ebca1511ee89370%20%3D%20%7B%0A%20%20%20%20%20%20%20%20%20%20%20%20%20%20%20%20base_layers%20%3A%20%7B%20%22openstreetmap%22%20%3A%20tile_layer_be46d40da5634a499b6ab77a22a42ccc%2C%20%7D%2C%0A%20%20%20%20%20%20%20%20%20%20%20%20%20%20%20%20overlays%20%3A%20%7B%20%222018-10-07%22%20%3A%20tile_layer_a5bd73fc8702439fa67a96a7dbfdcc7c%2C%222018-11-08%22%20%3A%20tile_layer_0203335501484db6878670f5cab71f93%2C%222018-12-26%22%20%3A%20tile_layer_3379f2e6421a4bd08e6bf45ebdf2cf29%2C%20%7D%0A%20%20%20%20%20%20%20%20%20%20%20%20%20%20%20%20%7D%3B%0A%20%20%20%20%20%20%20%20%20%20%20%20L.control.layers%28%0A%20%20%20%20%20%20%20%20%20%20%20%20%20%20%20%20layer_control_5751c80ad3814c169ebca1511ee89370.base_layers%2C%0A%20%20%20%20%20%20%20%20%20%20%20%20%20%20%20%20layer_control_5751c80ad3814c169ebca1511ee89370.overlays%2C%0A%20%20%20%20%20%20%20%20%20%20%20%20%20%20%20%20%7Bposition%3A%20%27topright%27%2C%0A%20%20%20%20%20%20%20%20%20%20%20%20%20%20%20%20%20collapsed%3A%20false%2C%0A%20%20%20%20%20%20%20%20%20%20%20%20%20%20%20%20%20autoZIndex%3A%20true%0A%20%20%20%20%20%20%20%20%20%20%20%20%20%20%20%20%7D%29.addTo%28map_1147aeaa432f428fae08b154e328c4a8%29%3B%0A%20%20%20%20%20%20%20%20%20%20%20%20%0A%20%20%20%20%20%20%20%20%0A%3C/script%3E onload=\"this.contentDocument.open();this.contentDocument.write(    decodeURIComponent(this.getAttribute('data-html')));this.contentDocument.close();\" allowfullscreen webkitallowfullscreen mozallowfullscreen></iframe></div></div>"
            ]
          },
          "metadata": {}
        }
      ]
    }
  ]
}